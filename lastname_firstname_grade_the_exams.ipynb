{
 "cells": [
  {
   "cell_type": "code",
   "execution_count": 16,
   "metadata": {},
   "outputs": [],
   "source": [
    "import pandas as pd\n",
    "import numpy  as np"
   ]
  },
  {
   "cell_type": "markdown",
   "metadata": {},
   "source": [
    "Task 1: Create Import file (try, except)"
   ]
  },
  {
   "cell_type": "code",
   "execution_count": 17,
   "metadata": {},
   "outputs": [
    {
     "name": "stdout",
     "output_type": "stream",
     "text": [
      "Enter a class to grade (i.e. class1 for class1)\n",
      "Successfully opened class3.txt\n"
     ]
    }
   ],
   "source": [
    "print(\"Enter a class to grade (i.e. class1 for class1)\")\n",
    "name = input()\n",
    "try:\n",
    "    with open(name+'.txt','r') as gs:\n",
    "        grades = gs.readlines()\n",
    "        print(\"Successfully opened\", name+'.txt')\n",
    "        #print(grades)\n",
    "except IOError:\n",
    "        print(\"File not accessible\")"
   ]
  },
  {
   "cell_type": "markdown",
   "metadata": {},
   "source": [
    "Task 2: Inspect Value (check if has 26 values, print invalid, report)\n",
    "\n",
    "for loop to check if has 26 values, if not, print"
   ]
  },
  {
   "cell_type": "code",
   "execution_count": 18,
   "metadata": {},
   "outputs": [
    {
     "name": "stdout",
     "output_type": "stream",
     "text": [
      "Total valid lines of data: 100\n",
      "Total invalid lines of data: 0\n"
     ]
    }
   ],
   "source": [
    "def valueCheck(x):\n",
    "    value = x.split(\",\")\n",
    "    length = len(value)\n",
    "    return length\n",
    "def has26Values(x):\n",
    "    if x == 26:\n",
    "        return True\n",
    "    else:\n",
    "        return False\n",
    "for grade in grades: \n",
    "            value = grade.split(\",\")\n",
    "            length = len(value)\n",
    "            if length != 26:\n",
    "                incorrect_id = value[0]\n",
    "                print(\"Invalid line of data:\", (incorrect_id) + \" does not contain exactly 26 values:\")\n",
    "                print(grade)    \n",
    "values_count = list(map(valueCheck,grades))\n",
    "values_check = list(map(has26Values,values_count))\n",
    "print(\"Total valid lines of data:\", values_check.count(True))\n",
    "print(\"Total invalid lines of data:\", values_check.count(False))\n"
   ]
  },
  {
   "cell_type": "markdown",
   "metadata": {},
   "source": [
    "Task 3: Calculate Exam Test:\n",
    "How many high score \n",
    "average score\n",
    "highest score\n",
    "lowest score \n",
    "range of score(highest minus lowest) \n",
    "question most people skip(question num - how many)\n",
    "question most answer incorrectly(question num - how many)\n",
    "\n",
    "----------\n",
    "\n",
    "https://pandas.pydata.org/docs/reference/api/pandas.DataFrame.compare.html\n",
    "https://linuxhint.com/pandas-compare-two-dataframes-row-by-row/\n",
    "pandas.drop \n",
    "https://www.shanelynn.ie/pandas-drop-delete-dataframe-rows-columns/\n",
    "https://pandas.pydata.org/docs/reference/api/pandas.DataFrame.bool.html \n",
    "\n",
    "--------------------\n",
    "How to remove D\\n \n",
    "How to get the incorrect answer to a new dataframe\n",
    "How to "
   ]
  },
  {
   "cell_type": "code",
   "execution_count": 24,
   "metadata": {},
   "outputs": [
    {
     "name": "stdout",
     "output_type": "stream",
     "text": [
      "80\n",
      "64\n",
      "84\n",
      "76\n",
      "60\n",
      "76\n",
      "80\n",
      "80\n",
      "60\n",
      "72\n",
      "60\n",
      "84\n",
      "80\n",
      "72\n",
      "72\n",
      "76\n",
      "76\n",
      "84\n",
      "68\n",
      "76\n",
      "84\n",
      "72\n",
      "64\n",
      "84\n",
      "84\n",
      "76\n",
      "76\n",
      "80\n",
      "80\n",
      "84\n",
      "84\n",
      "68\n",
      "80\n",
      "72\n",
      "80\n",
      "68\n",
      "88\n",
      "84\n",
      "84\n",
      "72\n",
      "80\n",
      "80\n",
      "76\n",
      "84\n",
      "64\n",
      "64\n",
      "84\n",
      "72\n",
      "72\n",
      "92\n",
      "80\n",
      "88\n",
      "68\n",
      "84\n",
      "76\n",
      "80\n",
      "68\n",
      "76\n",
      "80\n",
      "84\n",
      "84\n",
      "68\n",
      "80\n",
      "60\n",
      "76\n",
      "68\n",
      "72\n",
      "68\n",
      "80\n",
      "60\n",
      "80\n",
      "80\n",
      "80\n",
      "84\n",
      "80\n",
      "64\n",
      "72\n",
      "72\n",
      "84\n",
      "64\n",
      "84\n",
      "76\n",
      "68\n",
      "76\n",
      "76\n",
      "68\n",
      "92\n",
      "64\n",
      "80\n",
      "72\n",
      "68\n",
      "80\n",
      "80\n",
      "72\n",
      "72\n",
      "72\n",
      "84\n",
      "76\n",
      "76\n",
      "84\n"
     ]
    }
   ],
   "source": [
    "answer_keys = \"B,A,D,D,C,B,D,A,C,C,D,B,A,B,A,C,B,D,A,C,A,A,B,D,D\"\n",
    "answer_key = answer_keys.split(\",\")\n",
    "answer_key_table = pd.DataFrame(answer_key)\n",
    "#print(answer_key_table)\n",
    "for grade in grades: \n",
    "        value = grade.split(\",\")\n",
    "        answer_table = pd.DataFrame(value)\n",
    "        answer_table = answer_table.iloc[1: , :]\n",
    "        answer_table = answer_table.reset_index(drop=True)\n",
    "        #print(answer_table)\n",
    "        comparison = answer_key_table.compare(answer_table,align_axis=0,keep_shape=True)\n",
    "        comparison_table = pd.DataFrame(comparison)\n",
    "        gradeCheck = comparison_table.value_counts(dropna=False)\n",
    "        gradeCheck.to_frame()\n",
    "        score  = gradeCheck[0]\n",
    "        correctAnswer = score*2\n",
    "        print(correctAnswer)\n",
    "        "
   ]
  },
  {
   "cell_type": "markdown",
   "metadata": {},
   "source": [
    "Task 4: Export text file: \n",
    "as xxx_grades.txt\n",
    "list as 'id', 'score'"
   ]
  }
 ],
 "metadata": {
  "kernelspec": {
   "display_name": "Python 3.9.12 ('base')",
   "language": "python",
   "name": "python3"
  },
  "language_info": {
   "codemirror_mode": {
    "name": "ipython",
    "version": 3
   },
   "file_extension": ".py",
   "mimetype": "text/x-python",
   "name": "python",
   "nbconvert_exporter": "python",
   "pygments_lexer": "ipython3",
   "version": "3.9.12"
  },
  "orig_nbformat": 4,
  "vscode": {
   "interpreter": {
    "hash": "381157050c8046b41869433d9fd733424c97d932ef4e5a287b77faf68dffd6a3"
   }
  }
 },
 "nbformat": 4,
 "nbformat_minor": 2
}
