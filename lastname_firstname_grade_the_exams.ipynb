{
 "cells": [
  {
   "cell_type": "code",
   "execution_count": 1,
   "metadata": {},
   "outputs": [],
   "source": [
    "import pandas as pd\n",
    "import numpy  as np"
   ]
  },
  {
   "cell_type": "markdown",
   "metadata": {},
   "source": [
    "Task 1: Create Import file (try, except)"
   ]
  },
  {
   "cell_type": "code",
   "execution_count": 2,
   "metadata": {},
   "outputs": [
    {
     "name": "stdout",
     "output_type": "stream",
     "text": [
      "Enter a class to grade (i.e. class1 for class1)\n",
      "Successfully opened class4.txt\n"
     ]
    }
   ],
   "source": [
    "print(\"Enter a class to grade (i.e. class1 for class1)\")\n",
    "name = input()\n",
    "try:\n",
    "    with open(name+'.txt','r') as gs:\n",
    "        grades = gs.readlines()\n",
    "        print(\"Successfully opened\", name+'.txt')\n",
    "        #print(grades)\n",
    "except IOError:\n",
    "        print(\"File not accessible\")"
   ]
  },
  {
   "cell_type": "markdown",
   "metadata": {},
   "source": [
    "Task 2: Inspect Value (check if has 26 values, print invalid, report)\n",
    "\n",
    "for loop to check if has 26 values, if not, print"
   ]
  },
  {
   "cell_type": "code",
   "execution_count": 3,
   "metadata": {},
   "outputs": [
    {
     "name": "stdout",
     "output_type": "stream",
     "text": [
      "Invalid line of data: N00000616 does not contain exactly 26 values:\n",
      "N00000616,B,A,D,D,A,B,D,A,C,C,D,C,A,B,A,C,B,D,A,,A,B,B,D,D,A\n",
      "\n",
      "Invalid line of data: N00000638 does not contain exactly 26 values:\n",
      "N00000638,B,A,D,D,C,B,D,A,C,,D,B,A,B,A,B,C,D,A,C,A,,,D,D,Q\n",
      "\n",
      "Total valid lines of data: 493\n",
      "Total invalid lines of data: 2\n"
     ]
    }
   ],
   "source": [
    "def valueCheck(x):\n",
    "    value = x.split(\",\")\n",
    "    length = len(value)\n",
    "    return length\n",
    "def has26Values(x):\n",
    "    if x == 26:\n",
    "        return True\n",
    "    else:\n",
    "        return False\n",
    "for grade in grades: \n",
    "            value = grade.split(\",\")\n",
    "            length = len(value)\n",
    "            if length != 26:\n",
    "                incorrect_id = value[0]\n",
    "                print(\"Invalid line of data:\", (incorrect_id) + \" does not contain exactly 26 values:\")\n",
    "                print(grade)    \n",
    "values_count = list(map(valueCheck,grades))\n",
    "values_check = list(map(has26Values,values_count))\n",
    "print(\"Total valid lines of data:\", values_check.count(True))\n",
    "print(\"Total invalid lines of data:\", values_check.count(False))\n"
   ]
  },
  {
   "cell_type": "markdown",
   "metadata": {},
   "source": [
    "Task 3: Calculate Exam Test:\n",
    "How many high score \n",
    "average score\n",
    "highest score\n",
    "lowest score \n",
    "range of score(highest minus lowest) \n",
    "question most people skip(question num - how many)\n",
    "question most answer incorrectly(question num - how many)\n",
    "\n",
    "----------\n",
    "https://stackoverflow.com/questions/69246357/count-the-of-times-a-specific-value-occurs-in-one-column-per-unique-identifier\n",
    "https://pandas.pydata.org/pandas-docs/stable/reference/api/pandas.core.groupby.SeriesGroupBy.transform.html "
   ]
  },
  {
   "cell_type": "code",
   "execution_count": 32,
   "metadata": {},
   "outputs": [
    {
     "name": "stdout",
     "output_type": "stream",
     "text": [
      "question\n",
      "0     52\n",
      "1     52\n",
      "2     60\n",
      "3     61\n",
      "4     57\n",
      "5     58\n",
      "6     44\n",
      "7     56\n",
      "8     66\n",
      "9     47\n",
      "10    43\n",
      "11    62\n",
      "12    63\n",
      "13    42\n",
      "14    54\n",
      "15    53\n",
      "16    60\n",
      "17    56\n",
      "18    62\n",
      "19    56\n",
      "20    62\n",
      "21    54\n",
      "22    53\n",
      "23    47\n",
      "24    57\n",
      "Name: question, dtype: int64\n",
      "8\n",
      "66\n"
     ]
    }
   ],
   "source": [
    "answer_keys = \"B,A,D,D,C,B,D,A,C,C,D,B,A,B,A,C,B,D,A,C,A,A,B,D,D\"\n",
    "answer_key = answer_keys.split(\",\")\n",
    "answer_key_table = pd.DataFrame(answer_key)\n",
    "answers_checked = []\n",
    "for grade in grades:\n",
    "        value = grade.split(\",\")\n",
    "        values = []\n",
    "        if len(value) > 26:\n",
    "                continue\n",
    "        elif len(value) < 25:\n",
    "                continue\n",
    "        else:\n",
    "                answer_table = pd.DataFrame(value)\n",
    "                answer_table = answer_table.iloc[1: , :]\n",
    "                answer_table = answer_table.reset_index(drop=True)\n",
    "                cVal = answer_table.iloc[24][0]\n",
    "                cValSplit = cVal.split(\"\\n\")\n",
    "                c = cValSplit[0]\n",
    "                answer_table = answer_table.replace([cVal],c)\n",
    "                answer_table['checkAnswer'] = np.where(answer_table[0] == answer_key_table[0], 'True', answer_key_table[0])\n",
    "                answers_checked.append(answer_table)\n",
    "\n",
    "                        \n",
    "\n",
    "answer_pd = pd.concat(answers_checked)\n",
    "answer_pd.columns = ['studentAnswer', 'checkAnswer']\n",
    "answer_pd['question'] = answer_pd.index\n",
    "\n",
    "answers_incorrect_pd = answer_pd[answer_pd['checkAnswer'] != \"True\"]\n",
    "answers_incorrect_pd = answers_incorrect_pd[answers_incorrect_pd['studentAnswer'] != \"\"]\n",
    "\n",
    "answers_blank = answer_pd[answer_pd['studentAnswer'] == \"\" ]\n",
    "answer_incorrect_count = answers_incorrect_pd.groupby('question')['question'].count()\n",
    "question_most_incorrect = answer_incorrect_count.idxmax()\n",
    "num_answer_inccorect = answer_incorrect_count.max()\n",
    "print(answer_incorrect_count)\n",
    "print(question_most_incorrect)\n",
    "print(num_answer_inccorect)\n",
    "\n",
    "\n",
    "\n",
    "\n"
   ]
  },
  {
   "cell_type": "markdown",
   "metadata": {},
   "source": [
    "Task 4: Export text file: \n",
    "as xxx_grades.txt\n",
    "list as 'id', 'score'"
   ]
  },
  {
   "cell_type": "code",
   "execution_count": null,
   "metadata": {},
   "outputs": [],
   "source": []
  }
 ],
 "metadata": {
  "kernelspec": {
   "display_name": "Python 3.9.12 ('base')",
   "language": "python",
   "name": "python3"
  },
  "language_info": {
   "codemirror_mode": {
    "name": "ipython",
    "version": 3
   },
   "file_extension": ".py",
   "mimetype": "text/x-python",
   "name": "python",
   "nbconvert_exporter": "python",
   "pygments_lexer": "ipython3",
   "version": "3.9.12"
  },
  "orig_nbformat": 4,
  "vscode": {
   "interpreter": {
    "hash": "ca9c90c9b299e3c35d28bc96236d8f2c0bd3d51256cb5ad616950692d4a1a879"
   }
  }
 },
 "nbformat": 4,
 "nbformat_minor": 2
}
