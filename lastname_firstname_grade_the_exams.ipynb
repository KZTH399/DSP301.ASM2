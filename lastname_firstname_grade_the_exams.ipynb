{
 "cells": [
  {
   "cell_type": "code",
   "execution_count": 1,
   "metadata": {},
   "outputs": [],
   "source": [
    "import pandas as pd\n",
    "import numpy  as np"
   ]
  },
  {
   "cell_type": "markdown",
   "metadata": {},
   "source": [
    "Task 1: Create Import file (try, except)"
   ]
  },
  {
   "cell_type": "code",
   "execution_count": 2,
   "metadata": {},
   "outputs": [
    {
     "name": "stdout",
     "output_type": "stream",
     "text": [
      "Enter a class to grade (i.e. class1 for class1)\n",
      "Successfully opened class2.txt\n"
     ]
    }
   ],
   "source": [
    "print(\"Enter a class to grade (i.e. class1 for class1)\")\n",
    "name = input()\n",
    "try:\n",
    "    with open(name+'.txt','r') as gs:\n",
    "        grades = gs.readlines()\n",
    "        print(\"Successfully opened\", name+'.txt')\n",
    "except IOError:\n",
    "        print(\"File not accessible\")\n",
    "        "
   ]
  },
  {
   "cell_type": "markdown",
   "metadata": {},
   "source": [
    "Task 2: Inspect Value (check if has 26 values, print invalid, report)\n",
    "\n",
    "for loop to check if has 26 values, if not, print"
   ]
  },
  {
   "cell_type": "code",
   "execution_count": 52,
   "metadata": {},
   "outputs": [
    {
     "name": "stdout",
     "output_type": "stream",
     "text": [
      "2\n"
     ]
    }
   ],
   "source": [
    "#count = len([grade for grade in grades if grade > 5])\n",
    "from itertools import count\n",
    "\n",
    "\n",
    "def valueCheck(x):\n",
    "    value = x.split(\",\")\n",
    "    length = len(value)\n",
    "    return length\n",
    "def has26Values(x):\n",
    "    if x == 26:\n",
    "        return True\n",
    "    else:\n",
    "        return False\n",
    "a = has26Values(26)\n",
    "#print(a)\n",
    "z = map(valueCheck,grades)\n",
    "z = list(z)\n",
    "#print(z)\n",
    "t = map(has26Values,z)\n",
    "x = list(t)\n",
    "b = x.count(False)\n",
    "print(b)\n"
   ]
  },
  {
   "cell_type": "code",
   "execution_count": 3,
   "metadata": {},
   "outputs": [
    {
     "ename": "SyntaxError",
     "evalue": "invalid syntax (3197450681.py, line 3)",
     "output_type": "error",
     "traceback": [
      "\u001b[1;36m  Input \u001b[1;32mIn [3]\u001b[1;36m\u001b[0m\n\u001b[1;33m    def grade\u001b[0m\n\u001b[1;37m             ^\u001b[0m\n\u001b[1;31mSyntaxError\u001b[0m\u001b[1;31m:\u001b[0m invalid syntax\n"
     ]
    }
   ],
   "source": [
    "checklist = grades\n",
    "grade_df = pd.DataFrame(grades)\n",
    "def valueCheck(x)\n",
    "    length = len(x)\n",
    "    \n",
    "    print(len)\n",
    "\n",
    "\n",
    "for grade in grades: \n",
    "            value = grade.split(\",\")\n",
    "            length = len(value)\n",
    "            count = sum(,grade)\n",
    "            map()\n",
    "            print(count)\n",
    "            https://thispointer.com/python-count-elements-in-a-list-that-satisfy-certain-conditions/\n",
    "            \n",
    "            #print(length)\n",
    "            if length != 26:\n",
    "                \n",
    "                print(\"Invalid line of data:\"+ (incorrect_id) + \" does not contain exactly 26 values:\")\n",
    "                print(grade)\n",
    "                print(incorrect_data)\n",
    "\n"
   ]
  },
  {
   "cell_type": "markdown",
   "metadata": {},
   "source": [
    "Task 3: Calculate Exam Test:\n",
    "How many high score \n",
    "average score\n",
    "highest score\n",
    "lowest score \n",
    "range of score(highest minus lowest) \n",
    "question most people skip(question num - how many)\n",
    "question most answer incorrectly(question num - how many)\n",
    "\n",
    "----------\n",
    ">>> from collections import Counter\n",
    ">>> z = ['blue', 'red', 'blue', 'yellow', 'blue', 'red']\n",
    ">>> Counter(z)\n",
    "Counter({'blue': 3, 'red': 2, 'yellow': 1})"
   ]
  },
  {
   "cell_type": "markdown",
   "metadata": {},
   "source": [
    "Task 4: Export text file: \n",
    "as xxx_grades.txt\n",
    "list as 'id', 'score'"
   ]
  }
 ],
 "metadata": {
  "kernelspec": {
   "display_name": "Python 3.9.12 ('base')",
   "language": "python",
   "name": "python3"
  },
  "language_info": {
   "codemirror_mode": {
    "name": "ipython",
    "version": 3
   },
   "file_extension": ".py",
   "mimetype": "text/x-python",
   "name": "python",
   "nbconvert_exporter": "python",
   "pygments_lexer": "ipython3",
   "version": "3.9.12"
  },
  "orig_nbformat": 4,
  "vscode": {
   "interpreter": {
    "hash": "ca9c90c9b299e3c35d28bc96236d8f2c0bd3d51256cb5ad616950692d4a1a879"
   }
  }
 },
 "nbformat": 4,
 "nbformat_minor": 2
}
