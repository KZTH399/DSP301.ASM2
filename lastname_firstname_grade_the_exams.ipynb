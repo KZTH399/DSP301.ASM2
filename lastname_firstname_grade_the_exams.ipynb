{
 "cells": [
  {
   "cell_type": "code",
   "execution_count": 12,
   "metadata": {},
   "outputs": [],
   "source": [
    "import pandas as pd\n",
    "import numpy  as np"
   ]
  },
  {
   "cell_type": "markdown",
   "metadata": {},
   "source": [
    "Task 1: Create Import file (try, except)"
   ]
  },
  {
   "cell_type": "code",
   "execution_count": 13,
   "metadata": {},
   "outputs": [
    {
     "name": "stdout",
     "output_type": "stream",
     "text": [
      "Enter a class to grade (i.e. class1 for class1)\n",
      "File not accessible\n"
     ]
    }
   ],
   "source": [
    "print(\"Enter a class to grade (i.e. class1 for class1)\")\n",
    "name = input()\n",
    "try:\n",
    "    with open(name+'.txt','r') as gs:\n",
    "        grades = gs.readlines()\n",
    "        print(\"Successfully opened\", name+'.txt')\n",
    "        #print(grades)\n",
    "except IOError:\n",
    "        print(\"File not accessible\")"
   ]
  },
  {
   "cell_type": "markdown",
   "metadata": {},
   "source": [
    "Task 2: Inspect Value (check if has 26 values, print invalid, report)\n",
    "\n",
    "for loop to check if has 26 values, if not, print"
   ]
  },
  {
   "cell_type": "code",
   "execution_count": 14,
   "metadata": {},
   "outputs": [
    {
     "name": "stdout",
     "output_type": "stream",
     "text": [
      "Invalid line of data: N00000616 does not contain exactly 26 values:\n",
      "N00000616,B,A,D,D,A,B,D,A,C,C,D,C,A,B,A,C,B,D,A,,A,B,B,D,D,A\n",
      "\n",
      "Invalid line of data: N00000638 does not contain exactly 26 values:\n",
      "N00000638,B,A,D,D,C,B,D,A,C,,D,B,A,B,A,B,C,D,A,C,A,,,D,D,Q\n",
      "\n",
      "Total valid lines of data: 493\n",
      "Total invalid lines of data: 2\n"
     ]
    }
   ],
   "source": [
    "def valueCheck(x):\n",
    "    value = x.split(\",\")\n",
    "    length = len(value)\n",
    "    return length\n",
    "def has26Values(x):\n",
    "    if x == 26:\n",
    "        return True\n",
    "    else:\n",
    "        return False\n",
    "for grade in grades: \n",
    "            value = grade.split(\",\")\n",
    "            length = len(value)\n",
    "            if length != 26:\n",
    "                incorrect_id = value[0]\n",
    "                print(\"Invalid line of data:\", (incorrect_id) + \" does not contain exactly 26 values:\")\n",
    "                print(grade)    \n",
    "values_count = list(map(valueCheck,grades))\n",
    "values_check = list(map(has26Values,values_count))\n",
    "print(\"Total valid lines of data:\", values_check.count(True))\n",
    "print(\"Total invalid lines of data:\", values_check.count(False))\n"
   ]
  },
  {
   "cell_type": "markdown",
   "metadata": {},
   "source": [
    "Task 3: Calculate Exam Test:\n",
    "How many high score \n",
    "average score\n",
    "highest score\n",
    "lowest score \n",
    "range of score(highest minus lowest) \n",
    "question most people skip(question num - how many)\n",
    "question most answer incorrectly(question num - how many)\n",
    "\n",
    "----------\n",
    "\n",
    "https://pandas.pydata.org/docs/reference/api/pandas.DataFrame.compare.html\n",
    "https://linuxhint.com/pandas-compare-two-dataframes-row-by-row/\n",
    "pandas.drop \n",
    "https://www.shanelynn.ie/pandas-drop-delete-dataframe-rows-columns/\n",
    "https://pandas.pydata.org/docs/reference/api/pandas.DataFrame.bool.html \n",
    "https://stackoverflow.com/questions/35307732/how-to-sum-in-pandas-by-unique-index-in-several-columns\n",
    "https://stackoverflow.com/questions/44564414/how-can-i-use-return-to-get-back-multiple-values-from-a-loop-can-i-put-them-i \n",
    "\n",
    "--------------------\n",
    "How to get the incorrect answer to a new dataframe ( make a new dataframe with the quantity of answering incorrectly, score"
   ]
  },
  {
   "cell_type": "code",
   "execution_count": 34,
   "metadata": {},
   "outputs": [
    {
     "ename": "AttributeError",
     "evalue": "'NoneType' object has no attribute 'append'",
     "output_type": "error",
     "traceback": [
      "\u001b[1;31m---------------------------------------------------------------------------\u001b[0m",
      "\u001b[1;31mAttributeError\u001b[0m                            Traceback (most recent call last)",
      "\u001b[1;32mc:\\Users\\Thinh\\Documents\\GitHub\\DSP301.ASM2\\lastname_firstname_grade_the_exams.ipynb Cell 7\u001b[0m in \u001b[0;36m<cell line: 6>\u001b[1;34m()\u001b[0m\n\u001b[0;32m     <a href='vscode-notebook-cell:/c%3A/Users/Thinh/Documents/GitHub/DSP301.ASM2/lastname_firstname_grade_the_exams.ipynb#W6sZmlsZQ%3D%3D?line=17'>18</a>\u001b[0m         answer_table[\u001b[39m'\u001b[39m\u001b[39mprices_match\u001b[39m\u001b[39m'\u001b[39m] \u001b[39m=\u001b[39m np\u001b[39m.\u001b[39mwhere(\n\u001b[0;32m     <a href='vscode-notebook-cell:/c%3A/Users/Thinh/Documents/GitHub/DSP301.ASM2/lastname_firstname_grade_the_exams.ipynb#W6sZmlsZQ%3D%3D?line=18'>19</a>\u001b[0m         answer_table[\u001b[39m0\u001b[39m] \u001b[39m==\u001b[39m answer_key_table[\u001b[39m0\u001b[39m], \u001b[39m'\u001b[39m\u001b[39mTrue\u001b[39m\u001b[39m'\u001b[39m, answer_table[\u001b[39m0\u001b[39m])\n\u001b[0;32m     <a href='vscode-notebook-cell:/c%3A/Users/Thinh/Documents/GitHub/DSP301.ASM2/lastname_firstname_grade_the_exams.ipynb#W6sZmlsZQ%3D%3D?line=19'>20</a>\u001b[0m         \u001b[39mfor\u001b[39;00m answer \u001b[39min\u001b[39;00m answer_table:\n\u001b[1;32m---> <a href='vscode-notebook-cell:/c%3A/Users/Thinh/Documents/GitHub/DSP301.ASM2/lastname_firstname_grade_the_exams.ipynb#W6sZmlsZQ%3D%3D?line=20'>21</a>\u001b[0m                 values \u001b[39m=\u001b[39m values\u001b[39m.\u001b[39;49mappend(answer_table[answer])\n\u001b[0;32m     <a href='vscode-notebook-cell:/c%3A/Users/Thinh/Documents/GitHub/DSP301.ASM2/lastname_firstname_grade_the_exams.ipynb#W6sZmlsZQ%3D%3D?line=21'>22</a>\u001b[0m values\n",
      "\u001b[1;31mAttributeError\u001b[0m: 'NoneType' object has no attribute 'append'"
     ]
    }
   ],
   "source": [
    "answer_keys = \"B,A,D,D,C,B,D,A,C,C,D,B,A,B,A,C,B,D,A,C,A,A,B,D,D\"\n",
    "answer_key = answer_keys.split(\",\")\n",
    "answer_key_table = pd.DataFrame(answer_key)\n",
    "#answer_key_table = answer_key_table.reset_index(drop=True)\n",
    "#def checkAnswer(grades, answer_key_table):\n",
    "for grade in grades:\n",
    "        value = grade.split(\",\")\n",
    "        values = []\n",
    "        if len(value) > 26:\n",
    "                continue\n",
    "        answer_table = pd.DataFrame(value)\n",
    "        answer_table = answer_table.iloc[1: , :]\n",
    "        answer_table = answer_table.reset_index(drop=True)\n",
    "        cVal = answer_table.iloc[24][0]\n",
    "        cValSplit = cVal.split(\"\\n\")\n",
    "        c = cValSplit[0]\n",
    "        answer_table = answer_table.replace([cVal],c)\n",
    "        answer_table['prices_match'] = np.where(\n",
    "        answer_table[0] == answer_key_table[0], 'True', answer_table[0])\n",
    "        for answer in answer_table:\n",
    "                values = values.append(answer_table[answer])\n",
    "values  "
   ]
  },
  {
   "cell_type": "markdown",
   "metadata": {},
   "source": [
    "Task 4: Export text file: \n",
    "as xxx_grades.txt\n",
    "list as 'id', 'score'"
   ]
  }
 ],
 "metadata": {
  "kernelspec": {
   "display_name": "Python 3.9.12 ('base')",
   "language": "python",
   "name": "python3"
  },
  "language_info": {
   "codemirror_mode": {
    "name": "ipython",
    "version": 3
   },
   "file_extension": ".py",
   "mimetype": "text/x-python",
   "name": "python",
   "nbconvert_exporter": "python",
   "pygments_lexer": "ipython3",
   "version": "3.9.12"
  },
  "orig_nbformat": 4,
  "vscode": {
   "interpreter": {
    "hash": "381157050c8046b41869433d9fd733424c97d932ef4e5a287b77faf68dffd6a3"
   }
  }
 },
 "nbformat": 4,
 "nbformat_minor": 2
}
