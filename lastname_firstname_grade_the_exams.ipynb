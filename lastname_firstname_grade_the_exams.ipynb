{
 "cells": [
  {
   "cell_type": "code",
   "execution_count": 12,
   "metadata": {},
   "outputs": [],
   "source": [
    "import pandas as pd\n",
    "import numpy  as np"
   ]
  },
  {
   "cell_type": "markdown",
   "metadata": {},
   "source": [
    "Task 1: Create Import file (try, except)"
   ]
  },
  {
   "cell_type": "code",
   "execution_count": 17,
   "metadata": {},
   "outputs": [],
   "source": [
    "name = input()\n",
    "try:\n",
    "    with open(name+'.txt','r') as gs:\n",
    "        grades = gs.readlines()\n",
    "except IOError:\n",
    "        print(\"File not accessible\")\n",
    "        "
   ]
  },
  {
   "cell_type": "markdown",
   "metadata": {},
   "source": [
    "Task 2: Inspect Value (check if has 26 values, print invalid, report)"
   ]
  },
  {
   "cell_type": "code",
   "execution_count": null,
   "metadata": {},
   "outputs": [],
   "source": [
    "for grade in grades, "
   ]
  },
  {
   "cell_type": "markdown",
   "metadata": {},
   "source": [
    "Task 3: Calculate Exam Test:\n",
    "How many high score \n",
    "average score\n",
    "highest score\n",
    "lowest score \n",
    "range of score(highest minus lowest) \n",
    "question most people skip(question num - how many)\n",
    "question most answer incorrectly(question num - how many)"
   ]
  },
  {
   "cell_type": "markdown",
   "metadata": {},
   "source": [
    "Task 4: Export text file: \n",
    "as xxx_grades.txt\n",
    "list as 'id', 'score'"
   ]
  }
 ],
 "metadata": {
  "kernelspec": {
   "display_name": "Python 3.9.12 ('base')",
   "language": "python",
   "name": "python3"
  },
  "language_info": {
   "codemirror_mode": {
    "name": "ipython",
    "version": 3
   },
   "file_extension": ".py",
   "mimetype": "text/x-python",
   "name": "python",
   "nbconvert_exporter": "python",
   "pygments_lexer": "ipython3",
   "version": "3.9.12"
  },
  "orig_nbformat": 4,
  "vscode": {
   "interpreter": {
    "hash": "381157050c8046b41869433d9fd733424c97d932ef4e5a287b77faf68dffd6a3"
   }
  }
 },
 "nbformat": 4,
 "nbformat_minor": 2
}
