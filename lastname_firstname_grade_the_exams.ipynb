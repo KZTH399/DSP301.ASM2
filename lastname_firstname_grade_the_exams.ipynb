{
 "cells": [
  {
   "cell_type": "code",
   "execution_count": 1,
   "metadata": {},
   "outputs": [],
   "source": [
    "import pandas as pd\n",
    "import numpy  as np"
   ]
  },
  {
   "cell_type": "markdown",
   "metadata": {},
   "source": [
    "Task 1: Create Import file (try, except)"
   ]
  },
  {
   "cell_type": "code",
   "execution_count": 29,
   "metadata": {},
   "outputs": [
    {
     "name": "stdout",
     "output_type": "stream",
     "text": [
      "Enter a class to grade (i.e. class1 for class1)\n",
      "Successfully opened class2.txt\n"
     ]
    }
   ],
   "source": [
    "print(\"Enter a class to grade (i.e. class1 for class1)\")\n",
    "name = input()\n",
    "try:\n",
    "    with open(name+'.txt','r') as gs:\n",
    "        grades = gs.readlines()\n",
    "        print(\"Successfully opened\", name+'.txt')\n",
    "except IOError:\n",
    "        print(\"File not accessible\")\n",
    "        "
   ]
  },
  {
   "cell_type": "markdown",
   "metadata": {},
   "source": [
    "Task 2: Inspect Value (check if has 26 values, print invalid, report)\n",
    "\n",
    "for loop to check if has 26 values, if not, print"
   ]
  },
  {
   "cell_type": "code",
   "execution_count": 36,
   "metadata": {},
   "outputs": [
    {
     "ename": "TypeError",
     "evalue": "'bool' object is not iterable",
     "output_type": "error",
     "traceback": [
      "\u001b[1;31m---------------------------------------------------------------------------\u001b[0m",
      "\u001b[1;31mTypeError\u001b[0m                                 Traceback (most recent call last)",
      "\u001b[1;32mc:\\Users\\Thinh\\Documents\\GitHub\\DSP301.ASM2\\lastname_firstname_grade_the_exams.ipynb Cell 5\u001b[0m in \u001b[0;36m<cell line: 5>\u001b[1;34m()\u001b[0m\n\u001b[0;32m      <a href='vscode-notebook-cell:/c%3A/Users/Thinh/Documents/GitHub/DSP301.ASM2/lastname_firstname_grade_the_exams.ipynb#W4sZmlsZQ%3D%3D?line=5'>6</a>\u001b[0m value \u001b[39m=\u001b[39m grade\u001b[39m.\u001b[39msplit(\u001b[39m\"\u001b[39m\u001b[39m,\u001b[39m\u001b[39m\"\u001b[39m)\n\u001b[0;32m      <a href='vscode-notebook-cell:/c%3A/Users/Thinh/Documents/GitHub/DSP301.ASM2/lastname_firstname_grade_the_exams.ipynb#W4sZmlsZQ%3D%3D?line=6'>7</a>\u001b[0m length \u001b[39m=\u001b[39m \u001b[39mlen\u001b[39m(value)\n\u001b[1;32m----> <a href='vscode-notebook-cell:/c%3A/Users/Thinh/Documents/GitHub/DSP301.ASM2/lastname_firstname_grade_the_exams.ipynb#W4sZmlsZQ%3D%3D?line=7'>8</a>\u001b[0m count \u001b[39m=\u001b[39m \u001b[39msum\u001b[39;49m(length\u001b[39m!=\u001b[39;49m\u001b[39m26\u001b[39;49m,grade)\n\u001b[0;32m      <a href='vscode-notebook-cell:/c%3A/Users/Thinh/Documents/GitHub/DSP301.ASM2/lastname_firstname_grade_the_exams.ipynb#W4sZmlsZQ%3D%3D?line=8'>9</a>\u001b[0m \u001b[39mprint\u001b[39m(count)\n\u001b[0;32m     <a href='vscode-notebook-cell:/c%3A/Users/Thinh/Documents/GitHub/DSP301.ASM2/lastname_firstname_grade_the_exams.ipynb#W4sZmlsZQ%3D%3D?line=10'>11</a>\u001b[0m \u001b[39m#print(length)\u001b[39;00m\n",
      "\u001b[1;31mTypeError\u001b[0m: 'bool' object is not iterable"
     ]
    }
   ],
   "source": [
    "checklist = grades\n",
    "grade_df = pd.DataFrame(grades)\n",
    "\n",
    "\n",
    "for grade in grades: \n",
    "            value = grade.split(\",\")\n",
    "            length = len(value)\n",
    "            count = sum(,grade)\n",
    "            map()\n",
    "            print(count)\n",
    "            \n",
    "            #print(length)\n",
    "            if length != 26:\n",
    "                \n",
    "                print(\"Invalid line of data:\"+ (incorrect_id) + \" does not contain exactly 26 values:\")\n",
    "                print(grade)\n",
    "                print(incorrect_data)\n",
    "\n"
   ]
  },
  {
   "cell_type": "markdown",
   "metadata": {},
   "source": [
    "Task 3: Calculate Exam Test:\n",
    "How many high score \n",
    "average score\n",
    "highest score\n",
    "lowest score \n",
    "range of score(highest minus lowest) \n",
    "question most people skip(question num - how many)\n",
    "question most answer incorrectly(question num - how many)\n",
    "\n",
    "----------\n",
    ">>> from collections import Counter\n",
    ">>> z = ['blue', 'red', 'blue', 'yellow', 'blue', 'red']\n",
    ">>> Counter(z)\n",
    "Counter({'blue': 3, 'red': 2, 'yellow': 1})"
   ]
  },
  {
   "cell_type": "markdown",
   "metadata": {},
   "source": [
    "Task 4: Export text file: \n",
    "as xxx_grades.txt\n",
    "list as 'id', 'score'"
   ]
  }
 ],
 "metadata": {
  "kernelspec": {
   "display_name": "Python 3.9.12 ('base')",
   "language": "python",
   "name": "python3"
  },
  "language_info": {
   "codemirror_mode": {
    "name": "ipython",
    "version": 3
   },
   "file_extension": ".py",
   "mimetype": "text/x-python",
   "name": "python",
   "nbconvert_exporter": "python",
   "pygments_lexer": "ipython3",
   "version": "3.9.12"
  },
  "orig_nbformat": 4,
  "vscode": {
   "interpreter": {
    "hash": "381157050c8046b41869433d9fd733424c97d932ef4e5a287b77faf68dffd6a3"
   }
  }
 },
 "nbformat": 4,
 "nbformat_minor": 2
}
