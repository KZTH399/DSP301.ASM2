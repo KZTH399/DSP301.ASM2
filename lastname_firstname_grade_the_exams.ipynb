{
 "cells": [
  {
   "cell_type": "code",
   "execution_count": 1,
   "metadata": {},
   "outputs": [],
   "source": [
    "import pandas as pd\n",
    "import numpy  as np"
   ]
  },
  {
   "cell_type": "markdown",
   "metadata": {},
   "source": [
    "Task 1: Create Import file (try, except)"
   ]
  },
  {
   "cell_type": "code",
   "execution_count": 2,
   "metadata": {},
   "outputs": [
    {
     "name": "stdout",
     "output_type": "stream",
     "text": [
      "Enter a class to grade (i.e. class1 for class1)\n",
      "Successfully opened class6.txt\n"
     ]
    }
   ],
   "source": [
    "print(\"Enter a class to grade (i.e. class1 for class1)\")\n",
    "name = input()\n",
    "try:\n",
    "    with open(name+'.txt','r') as gs:\n",
    "        grades = gs.readlines()\n",
    "        print(\"Successfully opened\", name+'.txt')\n",
    "        #print(grades)\n",
    "except IOError:\n",
    "        print(\"File not accessible\")"
   ]
  },
  {
   "cell_type": "markdown",
   "metadata": {},
   "source": [
    "Task 2: Inspect Value (check if has 26 values, print invalid, report)\n",
    "\n",
    "for loop to check if has 26 values, if not, print"
   ]
  },
  {
   "cell_type": "code",
   "execution_count": 3,
   "metadata": {},
   "outputs": [
    {
     "name": "stdout",
     "output_type": "stream",
     "text": [
      "Invalid line of data: N00001648 does not contain exactly 26 values:\n",
      "N00001648,B,A,D,D,C,,D,,B,C,D,,A,\n",
      "\n",
      "Total valid lines of data: 300\n",
      "Total invalid lines of data: 1\n"
     ]
    }
   ],
   "source": [
    "def valueCheck(x):\n",
    "    value = x.split(\",\")\n",
    "    length = len(value)\n",
    "    return length\n",
    "def has26Values(x):\n",
    "    if x == 26:\n",
    "        return True\n",
    "    else:\n",
    "        return False\n",
    "for grade in grades: \n",
    "            value = grade.split(\",\")\n",
    "            length = len(value)\n",
    "            if length != 26:\n",
    "                incorrect_id = value[0]\n",
    "                print(\"Invalid line of data:\", (incorrect_id) + \" does not contain exactly 26 values:\")\n",
    "                print(grade)    \n",
    "values_count = list(map(valueCheck,grades))\n",
    "values_check = list(map(has26Values,values_count))\n",
    "print(\"Total valid lines of data:\", values_check.count(True))\n",
    "print(\"Total invalid lines of data:\", values_check.count(False))\n"
   ]
  },
  {
   "cell_type": "markdown",
   "metadata": {},
   "source": [
    "Task 3: Calculate Exam Test:\n",
    "How many high score \n",
    "average score\n",
    "highest score\n",
    "lowest score \n",
    "range of score(highest minus lowest) \n",
    "question most people skip(question num - how many)\n",
    "question most answer incorrectly(question num - how many)\n",
    "\n",
    "----------\n",
    "https://pandas.pydata.org/docs/reference/api/pandas.DataFrame.rename.html \n",
    "https://stackoverflow.com/questions/53837841/collect-rows-based-on-unique-id-pandas-dataframe\n",
    "\n",
    "--------------------\n",
    "count value of unique answer"
   ]
  },
  {
   "cell_type": "code",
   "execution_count": 28,
   "metadata": {},
   "outputs": [
    {
     "data": {
      "text/html": [
       "<div>\n",
       "<style scoped>\n",
       "    .dataframe tbody tr th:only-of-type {\n",
       "        vertical-align: middle;\n",
       "    }\n",
       "\n",
       "    .dataframe tbody tr th {\n",
       "        vertical-align: top;\n",
       "    }\n",
       "\n",
       "    .dataframe thead th {\n",
       "        text-align: right;\n",
       "    }\n",
       "</style>\n",
       "<table border=\"1\" class=\"dataframe\">\n",
       "  <thead>\n",
       "    <tr style=\"text-align: right;\">\n",
       "      <th></th>\n",
       "      <th>0</th>\n",
       "      <th>checkAnswer</th>\n",
       "    </tr>\n",
       "  </thead>\n",
       "  <tbody>\n",
       "    <tr>\n",
       "      <th>0</th>\n",
       "      <td>B</td>\n",
       "      <td>True</td>\n",
       "    </tr>\n",
       "    <tr>\n",
       "      <th>1</th>\n",
       "      <td>A</td>\n",
       "      <td>True</td>\n",
       "    </tr>\n",
       "    <tr>\n",
       "      <th>2</th>\n",
       "      <td></td>\n",
       "      <td>D</td>\n",
       "    </tr>\n",
       "    <tr>\n",
       "      <th>3</th>\n",
       "      <td>C</td>\n",
       "      <td>D</td>\n",
       "    </tr>\n",
       "    <tr>\n",
       "      <th>4</th>\n",
       "      <td>C</td>\n",
       "      <td>True</td>\n",
       "    </tr>\n",
       "    <tr>\n",
       "      <th>...</th>\n",
       "      <td>...</td>\n",
       "      <td>...</td>\n",
       "    </tr>\n",
       "    <tr>\n",
       "      <th>20</th>\n",
       "      <td>A</td>\n",
       "      <td>True</td>\n",
       "    </tr>\n",
       "    <tr>\n",
       "      <th>21</th>\n",
       "      <td>A</td>\n",
       "      <td>True</td>\n",
       "    </tr>\n",
       "    <tr>\n",
       "      <th>22</th>\n",
       "      <td>B</td>\n",
       "      <td>True</td>\n",
       "    </tr>\n",
       "    <tr>\n",
       "      <th>23</th>\n",
       "      <td>D</td>\n",
       "      <td>True</td>\n",
       "    </tr>\n",
       "    <tr>\n",
       "      <th>24</th>\n",
       "      <td>D</td>\n",
       "      <td>True</td>\n",
       "    </tr>\n",
       "  </tbody>\n",
       "</table>\n",
       "<p>7500 rows × 2 columns</p>\n",
       "</div>"
      ],
      "text/plain": [
       "    0 checkAnswer\n",
       "0   B        True\n",
       "1   A        True\n",
       "2               D\n",
       "3   C           D\n",
       "4   C        True\n",
       ".. ..         ...\n",
       "20  A        True\n",
       "21  A        True\n",
       "22  B        True\n",
       "23  D        True\n",
       "24  D        True\n",
       "\n",
       "[7500 rows x 2 columns]"
      ]
     },
     "execution_count": 28,
     "metadata": {},
     "output_type": "execute_result"
    }
   ],
   "source": [
    "from unittest import result\n",
    "\n",
    "\n",
    "answer_keys = \"B,A,D,D,C,B,D,A,C,C,D,B,A,B,A,C,B,D,A,C,A,A,B,D,D\"\n",
    "answer_key = answer_keys.split(\",\")\n",
    "answer_key_table = pd.DataFrame(answer_key)\n",
    "answers_checked = []\n",
    "for grade in grades:\n",
    "        value = grade.split(\",\")\n",
    "        values = []\n",
    "        if len(value) > 26:\n",
    "                continue\n",
    "        elif len(value) < 25:\n",
    "                continue\n",
    "        else:\n",
    "                answer_table = pd.DataFrame(value)\n",
    "                answer_table = answer_table.iloc[1: , :]\n",
    "                answer_table = answer_table.reset_index(drop=True)\n",
    "                cVal = answer_table.iloc[24][0]\n",
    "                cValSplit = cVal.split(\"\\n\")\n",
    "                c = cValSplit[0]\n",
    "                answer_table = answer_table.replace([cVal],c)\n",
    "                answer_table['checkAnswer'] = np.where(answer_table[0] == answer_key_table[0], 'True', answer_key_table[0])\n",
    "                answers_checked.append(answer_table)\n",
    "                #for answer in answer_table:\n",
    "                        #values.append(answer)\n",
    "                        \n",
    "\n",
    "a = pd.concat(answers_checked)\n",
    "a.rename(index={0: \"ID\", 1: \"Student Answer\", 2: \"Check Answer\"})\n",
    "a\n",
    "\n"
   ]
  },
  {
   "cell_type": "markdown",
   "metadata": {},
   "source": [
    "Task 4: Export text file: \n",
    "as xxx_grades.txt\n",
    "list as 'id', 'score'"
   ]
  }
 ],
 "metadata": {
  "kernelspec": {
   "display_name": "Python 3.9.12 ('base')",
   "language": "python",
   "name": "python3"
  },
  "language_info": {
   "codemirror_mode": {
    "name": "ipython",
    "version": 3
   },
   "file_extension": ".py",
   "mimetype": "text/x-python",
   "name": "python",
   "nbconvert_exporter": "python",
   "pygments_lexer": "ipython3",
   "version": "3.9.12"
  },
  "orig_nbformat": 4,
  "vscode": {
   "interpreter": {
    "hash": "381157050c8046b41869433d9fd733424c97d932ef4e5a287b77faf68dffd6a3"
   }
  }
 },
 "nbformat": 4,
 "nbformat_minor": 2
}
