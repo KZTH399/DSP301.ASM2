{
 "cells": [
  {
   "cell_type": "code",
   "execution_count": 27,
   "metadata": {},
   "outputs": [],
   "source": [
    "import pandas as pd\n",
    "import numpy  as np"
   ]
  },
  {
   "cell_type": "markdown",
   "metadata": {},
   "source": [
    "Task 1: Create Import file (try, except)"
   ]
  },
  {
   "cell_type": "code",
   "execution_count": 21,
   "metadata": {},
   "outputs": [
    {
     "name": "stdout",
     "output_type": "stream",
     "text": [
      "Enter a class to grade (i.e. class1 for class1)\n",
      "Successfully opened class2.txt\n"
     ]
    }
   ],
   "source": [
    "print(\"Enter a class to grade (i.e. class1 for class1)\")\n",
    "name = input()\n",
    "try:\n",
    "    with open(name+'.txt','r') as gs:\n",
    "        grades = gs.readlines()\n",
    "        print(\"Successfully opened\", name+'.txt')\n",
    "        #print(grades)\n",
    "except IOError:\n",
    "        print(\"File not accessible\")"
   ]
  },
  {
   "cell_type": "markdown",
   "metadata": {},
   "source": [
    "Task 2: Inspect Value (check if has 26 values, print invalid, report)\n",
    "\n",
    "for loop to check if has 26 values, if not, print"
   ]
  },
  {
   "cell_type": "code",
   "execution_count": 38,
   "metadata": {},
   "outputs": [
    {
     "name": "stdout",
     "output_type": "stream",
     "text": [
      "Invalid line of data: N00000023 does not contain exactly 26 values:\n",
      "N00000023,,A,D,D,C,B,D,A,C,C,,C,,B,A,C,B,D,A,C,A,A\n",
      "\n",
      "Invalid line of data: N00000035 does not contain exactly 26 values:\n",
      "N00000035,B,A,D,D,B,B,,A,C,,D,B,A,B,A,A,B,D,A,C,A,C,B,D,D,A,A\n",
      "\n",
      "Total valid lines of data: 23\n",
      "Total invalid lines of data: 2\n"
     ]
    }
   ],
   "source": [
    "def valueCheck(x):\n",
    "    value = x.split(\",\")\n",
    "    length = len(value)\n",
    "    return length\n",
    "def has26Values(x):\n",
    "    if x == 26:\n",
    "        return True\n",
    "    else:\n",
    "        return False\n",
    "for grade in grades: \n",
    "            value = grade.split(\",\")\n",
    "            length = len(value)\n",
    "            if length != 26:\n",
    "                incorrect_id = value[0]\n",
    "                print(\"Invalid line of data:\", (incorrect_id) + \" does not contain exactly 26 values:\")\n",
    "                print(grade)    \n",
    "values_count = list(map(valueCheck,grades))\n",
    "values_check = list(map(has26Values,values_count))\n",
    "print(\"Total valid lines of data:\", values_check.count(True))\n",
    "print(\"Total invalid lines of data:\", values_check.count(False))\n"
   ]
  },
  {
   "cell_type": "markdown",
   "metadata": {},
   "source": [
    "Task 3: Calculate Exam Test:\n",
    "How many high score \n",
    "average score\n",
    "highest score\n",
    "lowest score \n",
    "range of score(highest minus lowest) \n",
    "question most people skip(question num - how many)\n",
    "question most answer incorrectly(question num - how many)\n",
    "\n",
    "----------\n",
    "Calculate score!!!"
   ]
  },
  {
   "cell_type": "code",
   "execution_count": 37,
   "metadata": {},
   "outputs": [
    {
     "name": "stdout",
     "output_type": "stream",
     "text": [
      "Question that most people answer incorrectly: 9\n",
      "Question 9 is answered incorrectly 5 times\n",
      "----------------------\n",
      "Question that most people skip: 21\n",
      "Question 21 is skipped 6 times\n"
     ]
    }
   ],
   "source": [
    "answer_keys = \"B,A,D,D,C,B,D,A,C,C,D,B,A,B,A,C,B,D,A,C,A,A,B,D,D\"\n",
    "answer_key = answer_keys.split(\",\")\n",
    "answer_key_table = pd.DataFrame(answer_key)\n",
    "answers_checked = []\n",
    "for grade in grades:\n",
    "        value = grade.split(\",\")\n",
    "        values = []\n",
    "        if len(value) > 26:\n",
    "                continue\n",
    "        elif len(value) < 25:\n",
    "                continue\n",
    "        else:\n",
    "                answer_table = pd.DataFrame(value)\n",
    "                answer_table = answer_table.iloc[1: , :]\n",
    "                answer_table = answer_table.reset_index(drop=True)\n",
    "                cVal = answer_table.iloc[24][0]\n",
    "                cValSplit = cVal.split(\"\\n\")\n",
    "                c = cValSplit[0]\n",
    "                answer_table = answer_table.replace([cVal],c)\n",
    "                answer_table['checkAnswer'] = np.where(answer_table[0] == answer_key_table[0], 'True', answer_key_table[0])\n",
    "                answers_checked.append(answer_table)\n",
    "\n",
    "                        \n",
    "\n",
    "answer_pd = pd.concat(answers_checked)\n",
    "answer_pd.columns = ['studentAnswer', 'checkAnswer']\n",
    "answer_pd['question'] = answer_pd.index\n",
    "\n",
    "#Find out the question students most answer incorrectly and how many time the question is incorrect.\n",
    "answers_incorrect_pd = answer_pd[answer_pd['checkAnswer'] != \"True\"]\n",
    "answers_incorrect_pd = answers_incorrect_pd[answers_incorrect_pd['studentAnswer'] != \"\"]\n",
    "answer_incorrect_count = answers_incorrect_pd.groupby('question')['question'].count()\n",
    "question_most_incorrect = answer_incorrect_count.idxmax()\n",
    "num_answer_inccorect = answer_incorrect_count.max()\n",
    "print(\"Question that most people answer incorrectly:\", question_most_incorrect)\n",
    "print(\"Question\", question_most_incorrect, \"is answered incorrectly\", num_answer_inccorect, \"times\")\n",
    "print(\"----------------------\")\n",
    "\n",
    "#Find out the question students most leave blank and how many time the question is leave blank.\n",
    "answers_blank_pd = answer_pd[answer_pd['studentAnswer'] == \"\"]\n",
    "answers_blank_count = answers_blank_pd.groupby('question')['question'].count()\n",
    "question_most_leave_blank = answers_blank_count.idxmax()\n",
    "num_answer_blank = answers_blank_count.max()\n",
    "print(\"Question that most people skip:\", question_most_leave_blank)\n",
    "print(\"Question\", question_most_leave_blank, \"is skipped\", num_answer_blank, \"times\")\n",
    "\n",
    "\n",
    "\n",
    "\n"
   ]
  },
  {
   "cell_type": "markdown",
   "metadata": {},
   "source": [
    "Task 4: Export text file: \n",
    "as xxx_grades.txt\n",
    "list as 'id', 'score'"
   ]
  },
  {
   "cell_type": "code",
   "execution_count": null,
   "metadata": {},
   "outputs": [],
   "source": []
  }
 ],
 "metadata": {
  "kernelspec": {
   "display_name": "Python 3.9.12 ('base')",
   "language": "python",
   "name": "python3"
  },
  "language_info": {
   "codemirror_mode": {
    "name": "ipython",
    "version": 3
   },
   "file_extension": ".py",
   "mimetype": "text/x-python",
   "name": "python",
   "nbconvert_exporter": "python",
   "pygments_lexer": "ipython3",
   "version": "3.9.12"
  },
  "orig_nbformat": 4,
  "vscode": {
   "interpreter": {
    "hash": "381157050c8046b41869433d9fd733424c97d932ef4e5a287b77faf68dffd6a3"
   }
  }
 },
 "nbformat": 4,
 "nbformat_minor": 2
}
